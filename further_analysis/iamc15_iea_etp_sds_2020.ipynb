{
 "cells": [
  {
   "cell_type": "markdown",
   "metadata": {},
   "source": [
    "### *Assessment of pathways using the IAMC 1.5°C Scenario Data*\n",
    "\n",
    "<img style=\"float: right; height: 60px; padding-left: 20px;\" src=\"../_static/IIASA_logo.png\">\n",
    "<img style=\"float: right; height: 60px;\" src=\"../_static/iamc-logo.png\">\n",
    "\n",
    "# CO2 emissions in the Sustainable Development Scenario (IEA-ETP 2020)\n",
    "\n",
    "This notebook illustrates the CO2 emissions in the **Sustainable Development Scenario** from the 2020 IEA Energy Technology Perspectives report ([press release](https://www.iea.org/news/reaching-energy-and-climate-goals-demands-a-dramatic-scaling-up-of-clean-energy-technologies-starting-now)) compared to the IAMC 1.5°C Scenario Ensemble compiled for the IPCC's _\"Special Report on Global Warming of 1.5°C\"_.\n",
    "\n",
    "The scenario data used in this analysis can be accessed and downloaded at [https://data.ene.iiasa.ac.at/iamc-1.5c-explorer](https://data.ene.iiasa.ac.at/iamc-1.5c-explorer)."
   ]
  },
  {
   "cell_type": "markdown",
   "metadata": {},
   "source": [
    "## Load ``pyam`` package and other dependences"
   ]
  },
  {
   "cell_type": "code",
   "execution_count": 1,
   "metadata": {},
   "outputs": [
    {
     "data": {
      "application/javascript": [
       "IPython.OutputArea.prototype._should_scroll = function(lines) { return false; }"
      ],
      "text/plain": [
       "<IPython.core.display.Javascript object>"
      ]
     },
     "metadata": {},
     "output_type": "display_data"
    },
    {
     "name": "stderr",
     "output_type": "stream",
     "text": [
      "pyam - INFO: Running in a notebook, setting `pyam` logging level to `logging.INFO` and adding stderr handler\n"
     ]
    }
   ],
   "source": [
    "import pandas as pd\n",
    "import numpy as np\n",
    "import io\n",
    "import itertools\n",
    "import yaml\n",
    "import math\n",
    "import matplotlib.pyplot as plt\n",
    "plt.style.use('../assessment/style_sr15.mplstyle')\n",
    "%matplotlib inline\n",
    "import pyam"
   ]
  },
  {
   "cell_type": "markdown",
   "metadata": {},
   "source": [
    "## Import scenario data, categorization and specifications files\n",
    "\n",
    "The metadata file must be generated from the notebook `sr15_2.0_categories_indicators`\n",
    "in the repository https://github.com/iiasa/ipcc_sr15_scenario_analysis.\n",
    "If the snapshot file has been updated, make sure that you rerun the categorization notebook.\n",
    "\n",
    "The last cell of this section loads and assigns a number of auxiliary lists as defined in the categorization notebook."
   ]
  },
  {
   "cell_type": "code",
   "execution_count": 2,
   "metadata": {},
   "outputs": [
    {
     "name": "stderr",
     "output_type": "stream",
     "text": [
      "pyam.core - INFO: Reading file `../data/iamc15_scenario_data_world_r2.0.xlsx`\n"
     ]
    }
   ],
   "source": [
    "sr1p5 = pyam.IamDataFrame(data='../data/iamc15_scenario_data_world_r2.0.xlsx')"
   ]
  },
  {
   "cell_type": "code",
   "execution_count": 3,
   "metadata": {},
   "outputs": [
    {
     "name": "stderr",
     "output_type": "stream",
     "text": [
      "pyam.core - INFO: Importing meta indicators for 416 scenarios (for total of 416)\n"
     ]
    }
   ],
   "source": [
    "sr1p5.load_meta('../assessment/sr15_metadata_indicators.xlsx')"
   ]
  },
  {
   "cell_type": "code",
   "execution_count": 4,
   "metadata": {},
   "outputs": [],
   "source": [
    "with open(\"../assessment/sr15_specs.yaml\", 'r') as stream:\n",
    "    specs = yaml.load(stream, Loader=yaml.FullLoader)\n",
    "\n",
    "rc = pyam.run_control()\n",
    "for item in specs.pop('run_control').items():\n",
    "    rc.update({item[0]: item[1]})\n",
    "cats = specs.pop('cats')\n",
    "cats_15 = specs.pop('cats_15')\n",
    "cats_15_no_lo = specs.pop('cats_15_no_lo')"
   ]
  },
  {
   "cell_type": "markdown",
   "metadata": {},
   "source": [
    "## Downselect scenario ensemble"
   ]
  },
  {
   "cell_type": "code",
   "execution_count": 5,
   "metadata": {},
   "outputs": [],
   "source": [
    "years = range(2010, 2101, 10)"
   ]
  },
  {
   "cell_type": "code",
   "execution_count": 6,
   "metadata": {},
   "outputs": [],
   "source": [
    "df = (\n",
    "    sr1p5\n",
    "    .filter(category='Above 2C', keep=False)\n",
    "    .filter(variable='Emissions|CO2', year=years)\n",
    ")"
   ]
  },
  {
   "cell_type": "code",
   "execution_count": 7,
   "metadata": {},
   "outputs": [],
   "source": [
    "df.convert_unit('Mt CO2/yr', 'Gt CO2/yr', inplace=True)"
   ]
  },
  {
   "cell_type": "markdown",
   "metadata": {},
   "source": [
    "## Append IEA ETP 2020 SDS scenario data\n",
    "\n",
    "Data collected from this chart: https://www.iea.org/data-and-statistics/charts/global-energy-sector-co2-emissions-by-sector-in-the-sustainable-development-scenario-2019-2070"
   ]
  },
  {
   "cell_type": "code",
   "execution_count": 8,
   "metadata": {},
   "outputs": [],
   "source": [
    "_sds = pd.DataFrame([33.4, 27.4, 16.7, 9.4, 3.8, 0], columns=['year'], index=range(2020, 2071, 10)).T\n",
    "df.append(_sds, model='IEA ETP 2020', scenario='SDS',\n",
    "          variable='Emissions|CO2', unit='Gt CO2/yr', region='year', inplace=True)"
   ]
  },
  {
   "cell_type": "markdown",
   "metadata": {},
   "source": [
    "## Plot the IEA ETP 2020 CO2 emissions"
   ]
  },
  {
   "cell_type": "code",
   "execution_count": 9,
   "metadata": {},
   "outputs": [
    {
     "data": {
      "text/plain": [
       "Text(0.5, 1.0, 'CO2 emissions in IEA ETP (2020/2017) scenarios relative to IAMC 1.5°C scenarios')"
      ]
     },
     "execution_count": 9,
     "metadata": {},
     "output_type": "execute_result"
    },
    {
     "data": {
      "image/png": "[encoded data removed]",
      "text/plain": [
       "<Figure size 432x288 with 1 Axes>"
      ]
     },
     "metadata": {
      "needs_background": "light"
     },
     "output_type": "display_data"
    }
   ],
   "source": [
    "fig, ax = plt.subplots()\n",
    "\n",
    "_cats = df.filter(category=['1.5C low overshoot', 'Lower 2C'])\n",
    "_cats.line_plot(ax=ax, color='category', linewidth=0, fill_between=True, final_ranges=True, legend=False)\n",
    "ax.axhline(y=0, xmin=0.09, xmax=0.83, color='black', linewidth=0.8)\n",
    "\n",
    "etp_2020 = df.filter(model='IEA ETP 2020')\n",
    "etp_2020.line_plot(ax=ax, color='black', linewidth=1.5, linestyle='--', legend=False)\n",
    "\n",
    "etp_2017 = df.filter(model='IEA Energy Technology Perspective Model 2017')\n",
    "etp_2017.line_plot(ax=ax, color='black', linewidth=1.5, linestyle=':', legend=False)\n",
    "\n",
    "ax.set_title('CO2 emissions in IEA ETP (2020/2017) scenarios relative to IAMC 1.5°C scenarios')"
   ]
  },
  {
   "cell_type": "code",
   "execution_count": null,
   "metadata": {},
   "outputs": [],
   "source": []
  }
 ],
 "metadata": {
  "kernelspec": {
   "display_name": "Python 3",
   "language": "python",
   "name": "python3"
  },
  "language_info": {
   "codemirror_mode": {
    "name": "ipython",
    "version": 3
   },
   "file_extension": ".py",
   "mimetype": "text/x-python",
   "name": "python",
   "nbconvert_exporter": "python",
   "pygments_lexer": "ipython3",
   "version": "3.7.7"
  },
  "latex_envs": {
   "LaTeX_envs_menu_present": true,
   "autoclose": false,
   "autocomplete": true,
   "bibliofile": "biblio.bib",
   "cite_by": "apalike",
   "current_citInitial": 1,
   "eqLabelWithNumbers": true,
   "eqNumInitial": 1,
   "hotkeys": {
    "equation": "Ctrl-E",
    "itemize": "Ctrl-I"
   },
   "labels_anchors": false,
   "latex_user_defs": false,
   "report_style_numbering": false,
   "user_envs_cfg": false
  }
 },
 "nbformat": 4,
 "nbformat_minor": 2
}
